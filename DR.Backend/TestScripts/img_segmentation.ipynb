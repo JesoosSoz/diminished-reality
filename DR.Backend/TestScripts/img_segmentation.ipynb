{
 "cells": [
  {
   "cell_type": "code",
   "execution_count": 21,
   "metadata": {},
   "outputs": [],
   "source": [
    "import os\n",
    "from copy import deepcopy\n",
    "import numpy as np\n",
    "import matplotlib.pyplot as plt\n",
    "from PIL import Image\n",
    "import cv2\n",
    "import numpy as np\n",
    "import os\n",
    "from copy import deepcopy\n",
    "import numpy as np\n",
    "import matplotlib.pyplot as plt\n",
    "from PIL import Image\n",
    "\n",
    "%load_ext autoreload\n",
    "%autoreload 2"
   ]
  },
  {
   "cell_type": "code",
   "execution_count": 18,
   "metadata": {},
   "outputs": [],
   "source": [
    "path_to_model = 'frozen_inference_graph_coco.pb'\n",
    "path_to_config= 'mask_rcnn_inception_v2_coco_2018_01_28.pbtxt'\n",
    "SAMPLE_IMAGE='dog1.png'\n",
    "SAMPLE_MASK=\"mask.png\"\n",
    "ALGO_INPAINT=\"algo_inpaint.png\"\n",
    "MODEL_INPAINT=\"model_inpaint.png\"\n",
    "BATCH_SIZE = 4\n",
    "colors = np.random.randint(125, 255, (80, 3))\n",
    "IMAGE_INPAINT = 15"
   ]
  },
  {
   "cell_type": "markdown",
   "metadata": {},
   "source": [
    "# PixelLib"
   ]
  },
  {
   "cell_type": "code",
   "execution_count": 8,
   "metadata": {},
   "outputs": [],
   "source": [
    "model = cv2.dnn.readNetFromTensorflow(path_to_model,path_to_config)\n",
    "img = cv2.imread(SAMPLE_IMAGE)\n",
    "img = cv2.resize(img,(650,550))\n",
    "original_img = cv2.imread(SAMPLE_IMAGE)\n",
    "original_img = cv2.resize(img,(650,550))\n",
    "height, width, _ = img.shape\n",
    "black_image = np.zeros((height, width, 3), np.uint8)\n",
    "black_image[:] = (0, 0, 0)"
   ]
  },
  {
   "cell_type": "code",
   "execution_count": 9,
   "metadata": {},
   "outputs": [],
   "source": [
    "blob = cv2.dnn.blobFromImage(img, swapRB=True)\n",
    "model.setInput(blob)\n",
    "boxes, masks = model.forward([\"detection_out_final\", \"detection_masks\"])\n",
    "detection_count = boxes.shape[2]"
   ]
  },
  {
   "cell_type": "code",
   "execution_count": 10,
   "metadata": {},
   "outputs": [
    {
     "data": {
      "text/plain": [
       "True"
      ]
     },
     "execution_count": 10,
     "metadata": {},
     "output_type": "execute_result"
    }
   ],
   "source": [
    "for i in range(detection_count):\n",
    "     box = boxes[0, 0, i]\n",
    "     class_id = box[1]\n",
    "     score = box[2]\n",
    "     if score < 0.5:\n",
    "         continue\n",
    "     x = int(box[3] * width)\n",
    "     y = int(box[4] * height)\n",
    "     x2 = int(box[5] * width)\n",
    "     y2 = int(box[6] * height)\n",
    "     roi = black_image[y: y2, x: x2]\n",
    "     roi_height, roi_width, _ = roi.shape\n",
    "     mask = masks[i, int(class_id)]\n",
    "     mask = cv2.resize(mask, (roi_width, roi_height))\n",
    "     _, mask = cv2.threshold(mask, 0.5, 255, cv2.THRESH_BINARY)\n",
    "     cv2.rectangle(img, (x, y), (x2, y2), (255, 0, 0), 3)\n",
    "     contours, _ = cv2.findContours(np.array(mask, np.uint8), cv2.RETR_EXTERNAL, cv2.CHAIN_APPROX_SIMPLE)\n",
    "     color = colors[int(class_id)]\n",
    "     for cnt in contours:\n",
    "         cv2.fillPoly(roi, [cnt], (int(color[0]), int(color[1]), int(color[2])))\n",
    "\n",
    "cv2.imwrite('output.png', np.hstack([img,black_image]))\n",
    "cv2.imwrite('Overlay_image.png', ((0.6*black_image)+(0.4*img)).astype(\"uint8\"))"
   ]
  },
  {
   "cell_type": "code",
   "execution_count": 11,
   "metadata": {},
   "outputs": [],
   "source": [
    "onebite_masc = cv2.cvtColor(black_image, cv2.COLOR_BGR2GRAY)\n"
   ]
  },
  {
   "cell_type": "code",
   "execution_count": 19,
   "metadata": {},
   "outputs": [],
   "source": [
    "img_pre_output = original_img.copy()\n",
    "\n",
    "j = 0\n",
    "for row in img_pre_output:\n",
    "    i = 0\n",
    "    for element in row:\n",
    "        if (onebite_masc[j, i] != 0):\n",
    "            row[i] = [255, 255, 255]\n",
    "        i = i + 1\n",
    "    # print(row)\n",
    "    j = j + 1\n",
    "\n",
    "img_output = original_img.copy()\n",
    "\n",
    "j = 0\n",
    "for row in img_pre_output:\n",
    "    i = 0\n",
    "    for element in row:\n",
    "        if np.array_equal(element, [255, 255, 255]):\n",
    "                img_output = cv2.circle(img_output, (i, j), IMAGE_INPAINT, (255, 255, 255), 0)\n",
    "        i = i + 1\n",
    "    j = j + 1\n",
    "    \n",
    "mask_output = img_output.copy()\n",
    "\n",
    "j = 0\n",
    "for row in mask_output:\n",
    "    i = 0\n",
    "    for element in row:\n",
    "        if not np.array_equal(element, [255, 255, 255]):\n",
    "            row[i] = [0, 0, 0]\n",
    "        i = i + 1\n",
    "    # print(row)\n",
    "    j = j + 1"
   ]
  },
  {
   "cell_type": "code",
   "execution_count": 13,
   "metadata": {},
   "outputs": [
    {
     "name": "stdout",
     "output_type": "stream",
     "text": [
      "(550, 650, 3)\n"
     ]
    }
   ],
   "source": [
    "print(mask_output.shape)"
   ]
  },
  {
   "cell_type": "code",
   "execution_count": 20,
   "metadata": {},
   "outputs": [
    {
     "data": {
      "text/plain": [
       "True"
      ]
     },
     "execution_count": 20,
     "metadata": {},
     "output_type": "execute_result"
    }
   ],
   "source": [
    "final_onebite_masc = cv2.cvtColor(mask_output, cv2.COLOR_BGR2GRAY)\n",
    "cv2.imwrite(SAMPLE_MASK, final_onebite_masc)\n",
    "dst = cv2.inpaint(original_img,final_onebite_masc,3,cv2.INPAINT_TELEA)\n",
    "output_mask_img = cv2.add(original_img,mask_output)\n",
    "cv2.imwrite(ALGO_INPAINT, dst)\n",
    "cv2.imwrite('output_mask_img .png', output_mask_img )"
   ]
  }
 ],
 "metadata": {
  "interpreter": {
   "hash": "0d83e77f1981173ee795a9c68b49d541c239c9bf70bef207b52da9699075f4e5"
  },
  "kernelspec": {
   "display_name": "Python 3.7.11 64-bit ('FortMCI': conda)",
   "language": "python",
   "name": "python3"
  },
  "language_info": {
   "codemirror_mode": {
    "name": "ipython",
    "version": 3
   },
   "file_extension": ".py",
   "mimetype": "text/x-python",
   "name": "python",
   "nbconvert_exporter": "python",
   "pygments_lexer": "ipython3",
   "version": "3.6.13"
  },
  "orig_nbformat": 4
 },
 "nbformat": 4,
 "nbformat_minor": 2
}
